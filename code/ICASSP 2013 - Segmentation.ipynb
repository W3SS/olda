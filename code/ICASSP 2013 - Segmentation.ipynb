{
 "metadata": {
  "name": ""
 },
 "nbformat": 3,
 "nbformat_minor": 0,
 "worksheets": [
  {
   "cells": [
    {
     "cell_type": "code",
     "collapsed": false,
     "input": [
      "import mir_eval\n",
      "import sys\n",
      "import os\n",
      "import glob\n",
      "import numpy as np\n",
      "from pprint import pprint"
     ],
     "language": "python",
     "metadata": {},
     "outputs": [],
     "prompt_number": 23
    },
    {
     "cell_type": "code",
     "collapsed": false,
     "input": [
      "ROOTPATH = '/home/bmcfee/git/olda/data/'"
     ],
     "language": "python",
     "metadata": {},
     "outputs": [],
     "prompt_number": 8
    },
    {
     "cell_type": "code",
     "collapsed": false,
     "input": [
      "def load_annotations(path):\n",
      "    \n",
      "    files = sorted(glob.glob(path))\n",
      "    \n",
      "    data = [mir_eval.util.import_segment_boundaries(f) for f in files]\n",
      "    \n",
      "    return data"
     ],
     "language": "python",
     "metadata": {},
     "outputs": [],
     "prompt_number": 2
    },
    {
     "cell_type": "code",
     "collapsed": false,
     "input": [
      "def evaluate_set(SETNAME):\n",
      "    \n",
      "    truth = load_annotations('%s/truth/%s/*' % (ROOTPATH, SETNAME))\n",
      "    \n",
      "    algos = map(os.path.basename, sorted(glob.glob('%s/predictions/%s/*' % (ROOTPATH, SETNAME))))\n",
      "    \n",
      "    scores = {}\n",
      "    for A in algos:\n",
      "        print 'Scoring %s...' % A\n",
      "        # Load the corresponding predictions\n",
      "        predictions = load_annotations('%s/predictions/%s/%s/*' % (ROOTPATH, SETNAME, A))\n",
      "        \n",
      "        # Scrub the predictions to valid ranges\n",
      "        for i in range(len(predictions)):\n",
      "            predictions[i] = mir_eval.util.adjust_segment_boundaries(predictions[i], t_max=truth[i][-1])\n",
      "            \n",
      "        # Compute metrics\n",
      "        my_scores = []\n",
      "        \n",
      "        for t, p in zip(truth, predictions):\n",
      "            S = []\n",
      "            S.extend(mir_eval.segment.boundary_detection(t, p, window=0.5))\n",
      "            S.extend(mir_eval.segment.boundary_detection(t, p, window=3.0))\n",
      "            S.extend(mir_eval.segment.boundary_deviation(t, p))\n",
      "            S.extend(mir_eval.segment.frame_clustering_nce(t, p))\n",
      "            S.extend(mir_eval.segment.frame_clustering_pairwise(t, p))\n",
      "            S.extend(mir_eval.segment.frame_clustering_mutual_information(t, p))\n",
      "            S.append(mir_eval.segment.frame_clustering_rand(t, p))\n",
      "            my_scores.append(S)\n",
      "            \n",
      "        my_scores = np.array(my_scores)\n",
      "        scores[A] = np.mean(my_scores, axis=0)\n",
      "        \n",
      "    return scores"
     ],
     "language": "python",
     "metadata": {},
     "outputs": [],
     "prompt_number": 21
    },
    {
     "cell_type": "code",
     "collapsed": false,
     "input": [
      "METRICS = ['BD.5 P', 'BD.5 R', 'BD.5 F', \n",
      "           'BD3 P', 'BD3 R', 'BD3 F', \n",
      "           'BDev T2P', 'BDev P2T', \n",
      "           'S_O', 'S_U', 'S_F', \n",
      "           'Pair_P', 'Pair_R', 'Pair_F', \n",
      "           'MI', 'AMI', 'NMI', 'ARI']"
     ],
     "language": "python",
     "metadata": {},
     "outputs": [],
     "prompt_number": 28
    },
    {
     "cell_type": "code",
     "collapsed": false,
     "input": [
      "def save_results(outfile, predictions):\n",
      "    \n",
      "    with open(outfile, 'w') as f:\n",
      "        f.write('%s,%s\\n' % ('Algorithm', ','.join(METRICS)))\n",
      "        \n",
      "        for k in predictions:\n",
      "            f.write('%s,%s\\n' % (k, ','.join(map(lambda x: '%.8f' % x, predictions[k]))))\n",
      "            "
     ],
     "language": "python",
     "metadata": {},
     "outputs": [],
     "prompt_number": 32
    },
    {
     "cell_type": "code",
     "collapsed": false,
     "input": [
      "perfs_beatles = evaluate_set('BEATLES')"
     ],
     "language": "python",
     "metadata": {},
     "outputs": [
      {
       "output_type": "stream",
       "stream": "stdout",
       "text": [
        "Scoring smga1...\n",
        "Scoring smga2..."
       ]
      },
      {
       "output_type": "stream",
       "stream": "stdout",
       "text": [
        "\n",
        "Scoring sup..."
       ]
      },
      {
       "output_type": "stream",
       "stream": "stdout",
       "text": [
        "\n",
        "Scoring unsup..."
       ]
      },
      {
       "output_type": "stream",
       "stream": "stdout",
       "text": [
        "\n"
       ]
      }
     ],
     "prompt_number": 25
    },
    {
     "cell_type": "code",
     "collapsed": false,
     "input": [
      "save_results('/home/bmcfee/git/olda/data/beatles_scores.txt', perfs_beatles)"
     ],
     "language": "python",
     "metadata": {},
     "outputs": [],
     "prompt_number": 33
    },
    {
     "cell_type": "code",
     "collapsed": false,
     "input": [
      "pprint(perfs_beatles)"
     ],
     "language": "python",
     "metadata": {},
     "outputs": [
      {
       "output_type": "stream",
       "stream": "stdout",
       "text": [
        "{'smga1': array([ 0.35848177,  0.39340451,  0.36953244,  0.76901394,  0.80811573,\n",
        "        0.78046769,  1.15248184,  1.62451732,  0.81082868,  0.85842994,\n",
        "        0.82897101,  0.70173186,  0.79827864,  0.72933496,  1.75718127,\n",
        "        0.76488214,  0.81191025,  0.68312399]),\n",
        " 'smga2': array([ 0.3338195 ,  0.3671374 ,  0.34389022,  0.74448069,  0.74567912,\n",
        "        0.7362441 ,  1.43455084,  1.65903464,  0.80738387,  0.83273754,\n",
        "        0.81257208,  0.69613841,  0.75846218,  0.7052857 ,  1.70208372,\n",
        "        0.74671145,  0.79177247,  0.65213521]),\n",
        " 'sup': array([ 0.41815543,  0.45062453,  0.42395317,  0.67195632,  0.69354366,\n",
        "        0.66978051,  1.48671788,  1.81111453,  0.81512523,  0.81867667,\n",
        "        0.80980674,  0.72137651,  0.70012259,  0.68905294,  1.65323131,\n",
        "        0.74185534,  0.79423665,  0.63590818]),\n",
        " 'unsup': array([ 0.40607656,  0.40589373,  0.39813159,  0.67502165,  0.64396368,\n",
        "        0.65052912,  1.84207821,  1.96449441,  0.81909338,  0.79375813,\n",
        "        0.80057977,  0.73495601,  0.66514541,  0.68080517,  1.59877524,\n",
        "        0.73179906,  0.78298771,  0.62289594])}\n"
       ]
      }
     ],
     "prompt_number": 34
    },
    {
     "cell_type": "code",
     "collapsed": false,
     "input": [
      "perfs_salami = evaluate_set('SALAMI')"
     ],
     "language": "python",
     "metadata": {},
     "outputs": [
      {
       "output_type": "stream",
       "stream": "stdout",
       "text": [
        "Scoring smga1...\n",
        "Scoring smga2..."
       ]
      },
      {
       "output_type": "stream",
       "stream": "stdout",
       "text": [
        "\n",
        "Scoring sup..."
       ]
      },
      {
       "output_type": "stream",
       "stream": "stdout",
       "text": [
        "\n",
        "Scoring unsup..."
       ]
      },
      {
       "output_type": "stream",
       "stream": "stdout",
       "text": [
        "\n"
       ]
      }
     ],
     "prompt_number": 35
    },
    {
     "cell_type": "code",
     "collapsed": false,
     "input": [
      "pprint(perfs_salami)"
     ],
     "language": "python",
     "metadata": {},
     "outputs": [
      {
       "output_type": "stream",
       "stream": "stdout",
       "text": [
        "{'smga1': array([ 0.20908939,  0.359883  ,  0.25621431,  0.51158944,  0.73293165,\n",
        "        0.58900087,  1.44395607,  5.21269008,  0.71435089,  0.89521267,\n",
        "        0.78623916,  0.4482276 ,  0.82188953,  0.55046362,  2.02822911,\n",
        "        0.68987443,  0.78058019,  0.50768952]),\n",
        " 'smga2': array([ 0.20173772,  0.35659802,  0.24860064,  0.50789503,  0.696236  ,\n",
        "        0.57274115,  1.60723343,  5.2244346 ,  0.71911437,  0.88584384,\n",
        "        0.78604995,  0.45637552,  0.80160866,  0.54919438,  2.00451576,\n",
        "        0.68786749,  0.77667224,  0.50359401]),\n",
        " 'sup': array([ 0.40295337,  0.40797056,  0.3952452 ,  0.60874126,  0.61411047,\n",
        "        0.59731782,  2.1183833 ,  2.95477768,  0.80266187,  0.83164249,\n",
        "        0.80833587,  0.63829227,  0.710029  ,  0.64038911,  1.85841929,\n",
        "        0.74415983,  0.79818059,  0.59240964]),\n",
        " 'unsup': array([ 0.39041098,  0.36960946,  0.37047033,  0.60535709,  0.57005402,\n",
        "        0.57430236,  2.84265736,  2.98099893,  0.80790124,  0.80598502,\n",
        "        0.79870665,  0.65645807,  0.66748948,  0.63169105,  1.79161617,\n",
        "        0.7325436 ,  0.7868232 ,  0.57975581])}\n"
       ]
      }
     ],
     "prompt_number": 36
    },
    {
     "cell_type": "code",
     "collapsed": false,
     "input": [
      "save_results('/home/bmcfee/git/olda/data/salami_scores.txt', perfs_salami)"
     ],
     "language": "python",
     "metadata": {},
     "outputs": [],
     "prompt_number": 37
    }
   ],
   "metadata": {}
  }
 ]
}